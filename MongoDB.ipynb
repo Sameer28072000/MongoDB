{
 "cells": [
  {
   "cell_type": "markdown",
   "id": "5db2afa7-42ff-4190-a630-a43061ee93a5",
   "metadata": {},
   "source": [
    "Q1. What is MongoDB? Explain non-relational databases in short. In which scenarios it is preferred to use\n",
    "MongoDB over SQL databases?"
   ]
  },
  {
   "cell_type": "code",
   "execution_count": null,
   "id": "406f2cbc-55a1-4d36-a830-9a60e4daa213",
   "metadata": {},
   "outputs": [],
   "source": [
    "Ans:-MongoDB is a popular open-source NoSQL database management system that stores data in a flexible.\n",
    "      It is designed to handle large amounts of unstructured and semi-structured data.\n",
    "    \n",
    "    Non-relational databases, also known as NoSQL databases,\n",
    "      are a type of database management system different from traditinal database.\n",
    "        \n",
    "        Choosing between MongoDB and SQL databases depends on the specific requirements of the application \n",
    "          and the nature of the data being stored."
   ]
  },
  {
   "cell_type": "markdown",
   "id": "9b03af32-0b48-4e52-8aaa-18f415470ecb",
   "metadata": {},
   "source": [
    "Q2. State and Explain the features of MongoDB."
   ]
  },
  {
   "cell_type": "code",
   "execution_count": null,
   "id": "556df70a-f904-4e6f-b1cb-ce41dbed8ce6",
   "metadata": {},
   "outputs": [],
   "source": [
    "Ans:-Some features of MongoDB:-\n",
    "      i.Document Orientation\n",
    "       ii.Scalibility\n",
    "        iii.Flexibility\n",
    "          iv.Security & access control"
   ]
  },
  {
   "cell_type": "markdown",
   "id": "63a302fe-a457-4a21-8a71-86ea4f632f6f",
   "metadata": {},
   "source": [
    "Q3. Write a code to connect MongoDB to Python. Also, create a database and a collection in MongoDB."
   ]
  },
  {
   "cell_type": "code",
   "execution_count": null,
   "id": "0f1eed07-c47c-4be5-869f-24f2290fd14a",
   "metadata": {},
   "outputs": [],
   "source": [
    "Ans:-To connect MongoDB to Python, you can use the pymongo library."
   ]
  },
  {
   "cell_type": "code",
   "execution_count": null,
   "id": "2d585bfc-4c7c-4251-8d6e-0707cd62fc34",
   "metadata": {},
   "outputs": [],
   "source": [
    "pip install pymongo"
   ]
  },
  {
   "cell_type": "code",
   "execution_count": null,
   "id": "76195529-b53c-471f-abb1-f344666abf08",
   "metadata": {},
   "outputs": [],
   "source": [
    "import pymongo\n",
    "\n",
    "# Connect to MongoDB\n",
    "client = pymongo.MongoClient(\"mongodb://localhost:27017/\")\n",
    "\n",
    "# Create a database\n",
    "database = client[\"mydatabase\"]\n",
    "\n",
    "# Create a collection\n",
    "collection = database[\"mycollection\"]\n",
    "\n",
    "# Insert a document into the collection\n",
    "document = {\"name\": \"David John\", \"age\": 30, \"city\": \"Manchester\"}\n",
    "collection.insert_one(document)\n",
    "\n",
    "# Close the connection\n",
    "client.close()"
   ]
  },
  {
   "cell_type": "markdown",
   "id": "a120b01c-57fa-438b-bb15-8a9e99b425ff",
   "metadata": {},
   "source": [
    "Q4. Using the database and the collection created in question number 3, write a code to insert one record,\n",
    "and insert many records. Use the find() and find_one() methods to print the inserted record."
   ]
  },
  {
   "cell_type": "code",
   "execution_count": null,
   "id": "3f2e8dc1-07ac-4c49-a5b6-942245560128",
   "metadata": {},
   "outputs": [],
   "source": [
    "import pymongo\n",
    "\n",
    "# Connect to MongoDB\n",
    "client = pymongo.MongoClient(\"mongodb://localhost:27017/\")\n",
    "\n",
    "# Access the database and collection\n",
    "database = client[\"mydatabase\"]\n",
    "collection = database[\"mycollection\"]\n",
    "\n",
    "# Insert one record\n",
    "document_one = {\"name\": \"Alyas\", \"age\": 29, \"city\": \"London\"}\n",
    "collection.insert_one(document_one)\n",
    "\n",
    "# Insert multiple records\n",
    "documents_many = [\n",
    "    {\"name\": \"Jarvis\", \"age\": 28, \"city\": \"California\"},\n",
    "    {\"name\": \"FAF\", \"age\": 32, \"city\": \"London\"},\n",
    "    {\"name\": \"ABD\", \"age\": 38, \"city\": \"Oval\"}\n",
    "]\n",
    "collection.insert_many(documents_many)\n",
    "\n",
    "# Find and print inserted records using find()\n",
    "print(\"Records inserted using find():\")\n",
    "for document in collection.find():\n",
    "    print(document)\n",
    "\n",
    "# Find and print one inserted record using find_one()\n",
    "print(\"\\nOne record inserted using find_one():\")\n",
    "print(collection.find_one())\n",
    "\n",
    "# Close the connection\n",
    "client.close()"
   ]
  },
  {
   "cell_type": "markdown",
   "id": "978d2803-ea35-4314-b022-55329925fed7",
   "metadata": {},
   "source": [
    "Q5. Explain how you can use the find() method to query the MongoDB database. Write a simple code to\n",
    "demonstrate this."
   ]
  },
  {
   "cell_type": "code",
   "execution_count": null,
   "id": "ea18427e-60b9-4d95-b75d-1dea43a17712",
   "metadata": {},
   "outputs": [],
   "source": [
    "Ans:-\n",
    "     The find() method in MongoDB is used to query the database and retrieve documents that match specific criteria. "
   ]
  },
  {
   "cell_type": "code",
   "execution_count": null,
   "id": "ec205170-eb1b-4c51-bc8a-3444232e116e",
   "metadata": {},
   "outputs": [],
   "source": [
    "import pymongo\n",
    "\n",
    "# Connect to MongoDB\n",
    "client = pymongo.MongoClient(\"mongodb://localhost:27017/\")\n",
    "\n",
    "# Access the database and collection\n",
    "database = client[\"mydatabase\"]\n",
    "collection = database[\"mycollection\"]\n",
    "\n",
    "# Query the collection using find()\n",
    "query = {\"city\": \"London\"}\n",
    "results = collection.find(query)\n",
    "\n",
    "# Print the retrieved documents\n",
    "for document in results:\n",
    "    print(document)\n",
    "\n",
    "# Close the connection\n",
    "client.close()"
   ]
  },
  {
   "cell_type": "markdown",
   "id": "617e32fc-7334-4511-a970-050cd4732cde",
   "metadata": {},
   "source": [
    "Q6. Explain the sort() method. Give an example to demonstrate sorting in MongoDB."
   ]
  },
  {
   "cell_type": "code",
   "execution_count": null,
   "id": "910f416f-86b4-4963-b0c1-abd89d45493f",
   "metadata": {},
   "outputs": [],
   "source": [
    "Ans:-\n",
    "      The sort() method in MongoDB is used to sort the results of a query in\n",
    "         ascending or descending order based on one or more fields."
   ]
  },
  {
   "cell_type": "code",
   "execution_count": null,
   "id": "a2e6393c-32b3-42f0-8e0c-01ae093759f2",
   "metadata": {},
   "outputs": [],
   "source": [
    "import pymongo\n",
    "\n",
    "# Connect to MongoDB\n",
    "client = pymongo.MongoClient(\"mongodb://localhost:27017/\")\n",
    "\n",
    "# Access the database and collection\n",
    "database = client[\"mydatabase\"]\n",
    "collection = database[\"mycollection\"]\n",
    "\n",
    "# Query the collection and sort the results\n",
    "query = {\"city\": \"Johannesberg\"}\n",
    "results = collection.find(query).sort(\"age\", -1)\n",
    "\n",
    "# Print the sorted documents\n",
    "for document in results:\n",
    "    print(document)\n",
    "\n",
    "# Close the connection\n",
    "client.close()"
   ]
  },
  {
   "cell_type": "markdown",
   "id": "fc0bb288-daf5-43e3-b850-c43aa869a842",
   "metadata": {},
   "source": [
    "Q7. Explain why delete_one(), delete_many(), and drop() is used."
   ]
  },
  {
   "cell_type": "code",
   "execution_count": null,
   "id": "47a94977-6834-4d88-8b92-1a6ce314b3b2",
   "metadata": {},
   "outputs": [],
   "source": [
    "Ans:-\n",
    "    i.delete_one():-\n",
    "       The delete_one() method is used to delete a single document that matches a specific query filter.\n",
    "    \n",
    "     ii.delete_many():-\n",
    "\n",
    "        The delete_many() method is used to delete multiple documents that match a specific query filter.\n",
    "        \n",
    "        iii.drop() :-\n",
    "           The drop() method is used to delete an entire collection from a database."
   ]
  }
 ],
 "metadata": {
  "kernelspec": {
   "display_name": "Python 3 (ipykernel)",
   "language": "python",
   "name": "python3"
  },
  "language_info": {
   "codemirror_mode": {
    "name": "ipython",
    "version": 3
   },
   "file_extension": ".py",
   "mimetype": "text/x-python",
   "name": "python",
   "nbconvert_exporter": "python",
   "pygments_lexer": "ipython3",
   "version": "3.10.8"
  }
 },
 "nbformat": 4,
 "nbformat_minor": 5
}
